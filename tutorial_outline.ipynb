{
 "cells": [
  {
   "attachments": {},
   "cell_type": "markdown",
   "metadata": {},
   "source": [
    "# Tutorial"
   ]
  },
  {
   "attachments": {},
   "cell_type": "markdown",
   "metadata": {},
   "source": [
    "You will need to run the following commands in your terminal so we can use them later:\n",
    "* pip install google-api-python-client\n",
    "* pip install youtube_dl\n",
    "--------------------\n",
    "Might not get to today\n",
    "* pip install librosa"
   ]
  },
  {
   "attachments": {},
   "cell_type": "markdown",
   "metadata": {},
   "source": [
    "### Step 1: Setting up API through Google Console Cloud\n",
    "* Create a google account\n",
    "* Create a new project in the Google Cloud Console (https://console.cloud.google.com)\n",
    "* Search \"APIs & Services\" > \"Credentials\". Click on the \"Create Credentials\". Select \"API key\"\n",
    "    * Grab that API key and put it in a json file, similar to what we did in class"
   ]
  },
  {
   "cell_type": "code",
   "execution_count": null,
   "metadata": {},
   "outputs": [],
   "source": [
    "{\n",
    "    \"developerKey\": \"key\"\n",
    "}"
   ]
  },
  {
   "attachments": {},
   "cell_type": "markdown",
   "metadata": {},
   "source": [
    "* Click \"Library\" on the left side.\n",
    "* Search \"Youtube\" and click on \"Youtube Data API v3\".\n",
    "* Click \"Enable\""
   ]
  },
  {
   "attachments": {},
   "cell_type": "markdown",
   "metadata": {},
   "source": [
    "### Step 2: Using Youtube API\n",
    "* Create a new file, I'm going to name mine 'youtube-main.py'\n",
    "* We need to import a couple libraries"
   ]
  },
  {
   "cell_type": "code",
   "execution_count": null,
   "metadata": {},
   "outputs": [],
   "source": [
    "import json\n",
    "import csv\n",
    "import googleapiclient.discovery"
   ]
  },
  {
   "attachments": {},
   "cell_type": "markdown",
   "metadata": {},
   "source": [
    "* We're going to grab that key from a json file"
   ]
  },
  {
   "cell_type": "code",
   "execution_count": null,
   "metadata": {},
   "outputs": [],
   "source": [
    "if __name__ == \"__main__\":\n",
    "    \n",
    "    # get api key from json file\n",
    "    with open('api_keys.json', 'r') as f:\n",
    "        json_obj = json.load(f)\n",
    "        api_key = json_obj[\"developerKey\"]\n",
    "        \n",
    "    youtube = googleapiclient.discovery.build(\"youtube\", \"v3\", developerKey=api_key)"
   ]
  },
  {
   "attachments": {},
   "cell_type": "markdown",
   "metadata": {},
   "source": [
    "* We're going to open our file `songs.csv` to put that information into a dictionary"
   ]
  },
  {
   "cell_type": "code",
   "execution_count": null,
   "metadata": {},
   "outputs": [],
   "source": [
    "# get songs from labels.csv\n",
    "with open('songs.csv', 'r') as csvfile:\n",
    "    reader = csv.DictReader(csvfile)\n",
    "    songs_info = list(reader)"
   ]
  },
  {
   "attachments": {},
   "cell_type": "markdown",
   "metadata": {},
   "source": [
    "* Now we're going to create a function that get a video id for a video with the audio that we want "
   ]
  },
  {
   "cell_type": "code",
   "execution_count": null,
   "metadata": {},
   "outputs": [],
   "source": [
    "def get_video_id(query):\n",
    "    \n",
    "    request = youtube.search().list(\n",
    "        q=query,\n",
    "        type=\"video\",\n",
    "        videoCategoryId=\"10\",\n",
    "        part=\"id\"\n",
    "    )\n",
    "    \n",
    "    response = request.execute()\n",
    "    print(\"response is:\", response)\n",
    "    # for tutorial, maybe return either response and request\n",
    "        # and show different indexes of reponse\n",
    "    if len(response[\"items\"]) > 0: \n",
    "        return response[\"items\"][0][\"id\"][\"videoId\"]\n",
    "    else:\n",
    "        return None"
   ]
  },
  {
   "attachments": {},
   "cell_type": "markdown",
   "metadata": {},
   "source": [
    "* This returns the video id for us, for we're going to put that all together to get a url for the video we want to extract the audio from"
   ]
  },
  {
   "cell_type": "code",
   "execution_count": null,
   "metadata": {},
   "outputs": [],
   "source": [
    "video_url = \"https://www.youtube.com/watch?v=\"\n",
    "    \n",
    "urls = []\n",
    "for song in songs_info:\n",
    "    #print(info)\n",
    "    query = \" \".join([song[\"song name\"], song[\"artist\"]])\n",
    "    #print(query)\n",
    "    video_id = get_video_id(query)\n",
    "    if video_id is not None:\n",
    "        url = \"\".join([video_url, video_id])\n",
    "        urls.append({\"song name\": song[\"song name\"], \"artist\": song[\"artist\"], \"genre\": song[\"genre\"], \"url\": url})"
   ]
  },
  {
   "attachments": {},
   "cell_type": "markdown",
   "metadata": {},
   "source": [
    "* Now we're going to save that to another file"
   ]
  },
  {
   "cell_type": "code",
   "execution_count": null,
   "metadata": {},
   "outputs": [],
   "source": [
    "with open(\"urls_songs.csv\", \"w\", newline=\"\") as f:\n",
    "    header = [\"song name\", \"artist\", \"genre\", \"url\"]\n",
    "    writer = csv.DictWriter(f, fieldnames=header)\n",
    "    writer.writeheader()\n",
    "    writer.writerows(urls) "
   ]
  },
  {
   "attachments": {},
   "cell_type": "markdown",
   "metadata": {},
   "source": [
    "#### Step 3: Using Youtube-DL\n",
    "* We will use youtube-dl to extract audio from a video\n",
    "* First we will import a couple libraries"
   ]
  },
  {
   "cell_type": "code",
   "execution_count": null,
   "metadata": {},
   "outputs": [],
   "source": [
    "import youtube_dl # pip install youtube_dl, pretty quick\n",
    "import csv"
   ]
  },
  {
   "attachments": {},
   "cell_type": "markdown",
   "metadata": {},
   "source": [
    "* We will then extract the data from our file and store the urls in a list"
   ]
  },
  {
   "cell_type": "code",
   "execution_count": null,
   "metadata": {},
   "outputs": [],
   "source": [
    "# get urls from urls.csv\n",
    "with open('urls_test.csv', 'r') as csvfile:\n",
    "    reader = csv.DictReader(csvfile)\n",
    "    urls_info = list(reader)\n",
    "\n",
    "print(urls_info)\n",
    "\n",
    "urls = []\n",
    "for row in urls_info:\n",
    "    urls.append(row[\"url\"])\n",
    "    \n",
    "print(urls)"
   ]
  },
  {
   "attachments": {},
   "cell_type": "markdown",
   "metadata": {},
   "source": [
    "* With youtube-dl, it is also a command line program, but to use it in a program, we need to specify our requirements for the download"
   ]
  },
  {
   "cell_type": "code",
   "execution_count": null,
   "metadata": {},
   "outputs": [],
   "source": [
    "ydl_opts = {\n",
    "    'format': 'bestaudio/best',\n",
    "    'outtmpl': 'audio/%(title)s.%(ext)s',\n",
    "    'extractaudio': True,\n",
    "    'postprocessors': [{\n",
    "        'key': 'FFmpegExtractAudio',\n",
    "        'preferredcodec': 'mp3',\n",
    "        'preferredquality': '192',\n",
    "    }],\n",
    "    'noplaylist': True\n",
    "}"
   ]
  },
  {
   "cell_type": "markdown",
   "metadata": {},
   "source": [
    "* Now we'll actually extract the audio and move it to a file"
   ]
  },
  {
   "cell_type": "code",
   "execution_count": null,
   "metadata": {},
   "outputs": [],
   "source": [
    "for url in urls:\n",
    "    print(\"Downloading audio from\", url)\n",
    "    youtube_dl.YoutubeDL(ydl_opts).download([url]) "
   ]
  },
  {
   "attachments": {},
   "cell_type": "markdown",
   "metadata": {},
   "source": [
    "You might get an error that says\n",
    "\n",
    "`youtube_dl.utils.DownloadError: ERROR: Unable to extract uploader id; please report this issue on https://yt-dl.org/bug. Make sure you are using the latest version; see  https://yt-dl.org/update  on how to update. Be sure to call youtube-dl with the --verbose flag and include its complete output.`\n",
    "\n",
    "If you get this error, you're going to want to look into it and find the file ending in `extractor/youtube.py`, open that file and navigate to where it says:\n",
    "\n",
    "`'uploader_id': self._search_regex(r'/(?:channel|user)/([^/?&#]+)', owner_profile_url, 'uploader id') if owner_profile_url else None,` \n",
    "\n",
    "Replace that line with:\n",
    "\n",
    "`'uploader_id': self._search_regex(r'/(?:channel/|user/|@)([^/?&#]+)', owner_profile_url, 'uploader id', default=None),`\n",
    "\n",
    "Now run the program again and you should see your audio files downloading\n",
    "\n",
    "If you got an error that says \n",
    "\n",
    "`youtube_dl.utils.DownloadError: ERROR: ffprobe/avprobe and ffmpeg/avconv not found. Please install one.`\n",
    "\n",
    "Run this command: `sudo apt-get install ffmpeg`"
   ]
  },
  {
   "attachments": {},
   "cell_type": "markdown",
   "metadata": {},
   "source": [
    "#### Step 4: Using Librosa\n",
    "* Librosa is a tool that helps us extract audio features that will help the classifier identify what genre the music should go into\n",
    "* We will just do a couple:\n",
    "    * tempo\n",
    "    * spectral centroid\n",
    "    * zero-crossing-rate"
   ]
  },
  {
   "cell_type": "code",
   "execution_count": null,
   "metadata": {},
   "outputs": [],
   "source": [
    "import librosa\n",
    "import numpy as np\n",
    "\n",
    "audio_file = 'audio/Whitney Houston - I Will Always Love You (Official 4K Video).mp3'\n",
    "y, sr = librosa.load(audio_file)\n",
    "\n",
    "# compute spectral centroid\n",
    "centroid = librosa.feature.spectral_centroid(y=y, sr=sr)\n",
    "\n",
    "# compute zero-crossing rate\n",
    "zcr = librosa.feature.zero_crossing_rate(y)\n",
    "\n",
    "# compute tempo\n",
    "tempo, _ = librosa.beat.beat_track(y=y, sr=sr)\n",
    "\n",
    "print(\"tempo:\", tempo)\n",
    "print(\"spectural centroid mean:\", np.mean(centroid))\n",
    "print(\"zero crossing rate:\", np.mean(zcr))"
   ]
  },
  {
   "attachments": {},
   "cell_type": "markdown",
   "metadata": {},
   "source": [
    "##### Youtube-DL options information\n",
    "* Here is some information about the following\n",
    "    * format: 'bestaudio/best'\n",
    "        * Specifies the format for the downloaded video or audio. In this case, it is set to 'bestaudio/best', which means that youtube-dl will try to download the best quality audio available.\n",
    "\n",
    "    * outtmpl: 'audio/%(title)s.%(ext)s'\n",
    "        * Specifies the output file path and name for the downloaded audio file. In this case, the downloaded audio file will be saved in a directory named 'audio' and will be named after the video title and extension.\n",
    "\n",
    "    * extractaudio: True\n",
    "        * Specifies that youtube-dl should extract the audio from the downloaded video file.\n",
    "\n",
    "    * postprocessors: [{'key': 'FFmpegExtractAudio', 'preferredcodec': 'mp3', 'preferredquality': '192'}]\n",
    "        * Specifies a list of post-processing steps that should be applied to the downloaded audio file. In this case, the 'FFmpegExtractAudio' key specifies that youtube-dl should extract the audio using FFmpeg, and the 'preferredcodec' and 'preferredquality' keys specify that the audio should be encoded as an MP3 file with a bitrate of 192 kbps (kilobits/second).\n",
    "\n",
    "    * noplaylist: True\n",
    "        * Specifies that youtube-dl should only download a single video, rather than downloading an entire playlist if the URL provided is a playlist."
   ]
  }
 ],
 "metadata": {
  "kernelspec": {
   "display_name": "myenv",
   "language": "python",
   "name": "python3"
  },
  "language_info": {
   "name": "python",
   "version": "3.8.10"
  },
  "orig_nbformat": 4,
  "vscode": {
   "interpreter": {
    "hash": "0e1788bbee0ec77ab414256bd79422fba97e4f24f0dbeda25a088bba4fba421e"
   }
  }
 },
 "nbformat": 4,
 "nbformat_minor": 2
}
